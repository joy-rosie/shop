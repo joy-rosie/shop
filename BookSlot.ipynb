{
 "cells": [
  {
   "cell_type": "code",
   "execution_count": null,
   "id": "ab0aa1c1-f9c3-40c3-80dc-23d40ea2eb17",
   "metadata": {},
   "outputs": [],
   "source": [
    "%run ./Utility.ipynb"
   ]
  },
  {
   "cell_type": "markdown",
   "id": "e9475df6-024d-4d11-942f-38de05cb89e3",
   "metadata": {},
   "source": [
    "## Imports"
   ]
  },
  {
   "cell_type": "code",
   "execution_count": null,
   "id": "e3c27e1b-7c40-463a-b42c-fb8a5f83e6ec",
   "metadata": {},
   "outputs": [],
   "source": [
    "import datetime\n",
    "import zoneinfo\n",
    "import time"
   ]
  },
  {
   "cell_type": "markdown",
   "id": "13ba46bd-696f-45be-8f7a-f03f7be3c92a",
   "metadata": {},
   "source": [
    "## Login"
   ]
  },
  {
   "cell_type": "code",
   "execution_count": null,
   "id": "5e9a7fef-ff8b-44c1-b029-66ab5329b299",
   "metadata": {},
   "outputs": [],
   "source": [
    "driver = login()"
   ]
  },
  {
   "cell_type": "markdown",
   "id": "e09b7e3b-d6f5-4146-952f-73a5ca276ec8",
   "metadata": {},
   "source": [
    "## Go to book a slot"
   ]
  },
  {
   "cell_type": "code",
   "execution_count": null,
   "id": "72f473c7-11c3-47ad-b0ba-18e9c3efff1b",
   "metadata": {},
   "outputs": [],
   "source": [
    "xpath_groceries = '//a[@title=\"Groceries\"]'\n",
    "wait_and_click(driver=driver, value=xpath_groceries)\n",
    "\n",
    "xpath_shop_groceries = '//span[text()=\"Shop groceries\"]'\n",
    "element_span_shop_groceries = wait_and_get(driver=driver, value=xpath_shop_groceries)\n",
    "element_shop_groceries = element_span_shop_groceries.find_element(by=By.XPATH, value='../..')\n",
    "element_shop_groceries.click()\n",
    "\n",
    "xpath_book_another_slot = '//a[text()=\"Book another slot\"]'\n",
    "wait_and_click(driver=driver, value=xpath_book_another_slot)\n",
    "\n",
    "xpath_delivery = '//a[@href=\"/groceries/en-GB/slots/delivery\"]'\n",
    "wait_and_click(driver=driver, value=xpath_delivery)"
   ]
  },
  {
   "cell_type": "markdown",
   "id": "c4f24d2b-62a8-499a-b534-5637337a208a",
   "metadata": {},
   "source": [
    "## Book the slot"
   ]
  },
  {
   "cell_type": "code",
   "execution_count": null,
   "id": "00d6c754-bc14-4ab7-9c9f-1b4edb2b4aea",
   "metadata": {},
   "outputs": [],
   "source": [
    "now = datetime.datetime.now(tz=zoneinfo.ZoneInfo('Europe/London'))\n",
    "\n",
    "start_week_third = now + datetime.timedelta(days=21)\n",
    "end_week_third = start_week_third + datetime.timedelta(days=6)\n",
    "\n",
    "days_to_saturday = (5 - start_week_third.weekday()) % 7\n",
    "date_saturday = start_week_third + datetime.timedelta(days=days_to_saturday)\n",
    "\n",
    "datetime_slot_start = date_saturday.replace(hour=9, minute=0, second=0)\n",
    "datetime_slot_end = datetime_slot_start + datetime.timedelta(hours=1)\n",
    "\n",
    "def suffix(day_of_month: int) -> str:\n",
    "    if 11 <= day_of_month <= 13:\n",
    "        return 'th' \n",
    "    else:\n",
    "        return {1: 'st', 2: 'nd', 3: 'rd'}.get(day_of_month % 10, 'th')\n",
    "    \n",
    "def date_with_suffix(dt: datetime) -> str:\n",
    "    return f'{dt.day}{suffix(dt.day)}'\n",
    "\n",
    "if start_week_third.month == end_week_third.month:\n",
    "    xpath_week_third = f'//a[@id=\"between-{start_week_third:%B} {date_with_suffix(start_week_third)} - {date_with_suffix(end_week_third)}\"]'.lower()\n",
    "else:\n",
    "    xpath_week_third = f'//a[@id=\"between-{start_week_third:%B} {date_with_suffix(start_week_third)} - {end_week_third:%B} {date_with_suffix(end_week_third)}\"]'.lower()\n",
    "\n",
    "wait_and_click(driver=driver, value=xpath_week_third)\n",
    "\n",
    "date_formatted = datetime_slot_start.strftime(f'%A {date_with_suffix(datetime_slot_start)} %B')\n",
    "\n",
    "text_slot = f'{date_formatted}, Between {datetime_slot_start:%H:%M} - {datetime_slot_end:%H:%M}.'\n",
    "\n",
    "xpath_slot_saturday = f'//span[text()=\"{text_slot}\"]'\n",
    "element_slot_saturday = wait_and_get(driver=driver, value=xpath_slot_saturday)\n",
    "element_slot_button = element_slot_saturday.find_element(by=By.XPATH, value='..')\n",
    "element_slot_button.click()\n",
    "\n",
    "xpath_my_orders = '//span[text()=\"My orders\"]'\n",
    "wait_and_click(driver=driver, value=xpath_my_orders)"
   ]
  },
  {
   "cell_type": "markdown",
   "id": "bf78323c-7115-49ff-8c7c-f3fd194582e4",
   "metadata": {},
   "source": [
    "## Add all to basket"
   ]
  },
  {
   "cell_type": "code",
   "execution_count": null,
   "id": "c9c06bec-c7fc-480c-945c-1886a6956ffc",
   "metadata": {},
   "outputs": [],
   "source": [
    "xpath_add_all_to_basket = '//button[@type=\"submit\"]//span[text()=\"Add all to basket\"]'\n",
    "wait_and_click(driver=driver, value=xpath_add_all_to_basket)\n",
    "time.sleep(10)"
   ]
  },
  {
   "cell_type": "markdown",
   "id": "7c5e282f-b173-414c-962e-0738662fce51",
   "metadata": {},
   "source": [
    "## Checkout"
   ]
  },
  {
   "cell_type": "code",
   "execution_count": null,
   "id": "63ee7f91-48a8-4d81-955d-1dc504875487",
   "metadata": {},
   "outputs": [],
   "source": [
    "xpath_span_checkout = '//span[text()=\"Checkout\"]'\n",
    "wait_and_execute_click(driver=driver, value=xpath_span_checkout)\n",
    "\n",
    "xpath_a_checkout = '//a[text()=\"Checkout\"]'\n",
    "wait_and_execute_click(driver=driver, value=xpath_a_checkout)\n",
    "\n",
    "xpath_a_continue_checkout = '//a[text()=\"Continue checkout\"]'\n",
    "wait_and_execute_click(driver=driver, value=xpath_a_continue_checkout)\n",
    "\n",
    "xpath_span_continue_to_payment = '//span[text()=\"Continue to payment\"]'\n",
    "wait_and_execute_click(driver=driver, value=xpath_span_continue_to_payment)"
   ]
  },
  {
   "cell_type": "markdown",
   "id": "d5433b4e-7e1c-488c-90f3-da89a5d90a89",
   "metadata": {},
   "source": [
    "## Input card details"
   ]
  },
  {
   "cell_type": "code",
   "execution_count": null,
   "id": "c17d68c3-b3eb-43cc-8965-55fcf21fb963",
   "metadata": {},
   "outputs": [],
   "source": [
    "driver.switch_to.frame('bounty-iframe')\n",
    "\n",
    "xpath_cvc = '//input[@id=\"card-cvc\"]'\n",
    "wait_and_send_keys(driver=driver, value=xpath_cvc, keys=getpass.getpass(), log=False)\n",
    "\n",
    "xpath_confirm_order = '//input[@value=\"Confirm order\"]'\n",
    "wait_and_click(driver=driver, value=xpath_confirm_order)"
   ]
  }
 ],
 "metadata": {
  "kernelspec": {
   "display_name": "Python 3 (ipykernel)",
   "language": "python",
   "name": "python3"
  },
  "language_info": {
   "codemirror_mode": {
    "name": "ipython",
    "version": 3
   },
   "file_extension": ".py",
   "mimetype": "text/x-python",
   "name": "python",
   "nbconvert_exporter": "python",
   "pygments_lexer": "ipython3",
   "version": "3.10.4"
  }
 },
 "nbformat": 4,
 "nbformat_minor": 5
}

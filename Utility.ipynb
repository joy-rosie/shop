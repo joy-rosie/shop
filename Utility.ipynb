{
 "cells": [
  {
   "cell_type": "code",
   "execution_count": null,
   "id": "44a5b4a3-8011-4657-8619-b854a65016ea",
   "metadata": {},
   "outputs": [],
   "source": [
    "import getpass\n",
    "import logging\n",
    "from pathlib import Path\n",
    "import sys\n",
    "from typing import Optional, NoReturn\n",
    "import time\n",
    "\n",
    "import chromedriver_binary\n",
    "import undetected_chromedriver\n",
    "from selenium import webdriver\n",
    "from selenium.webdriver.remote.webelement import WebElement\n",
    "from selenium.webdriver.common.keys import Keys\n",
    "from selenium.webdriver.common.by import By\n",
    "from selenium.webdriver.support.ui import WebDriverWait\n",
    "from selenium.webdriver.support import expected_conditions\n",
    "from selenium.webdriver.common.action_chains import ActionChains"
   ]
  },
  {
   "cell_type": "markdown",
   "id": "cd991e9b-3d3b-4c82-8c56-70ded13c0c10",
   "metadata": {},
   "source": [
    "## Constants"
   ]
  },
  {
   "cell_type": "code",
   "execution_count": null,
   "id": "6f5214cc-5f18-40ac-988c-5931d5bdf674",
   "metadata": {},
   "outputs": [],
   "source": [
    "TIMEOUT = 100\n",
    "\n",
    "URL_LOGIN = 'https://www.tesco.com/account/login/en-GB?from=/'\n",
    "EMAIL_LOGIN = 'roseannaferguson@hotmail.com'\n",
    "PASSWORD_LOGIN = getpass.getpass()"
   ]
  },
  {
   "cell_type": "markdown",
   "id": "81dd96f5-7781-4823-bbe6-f3538a60cb48",
   "metadata": {},
   "source": [
    "## Logging"
   ]
  },
  {
   "cell_type": "code",
   "execution_count": null,
   "id": "08e8f64a-3d56-4238-974e-f73ae6bbb632",
   "metadata": {},
   "outputs": [],
   "source": [
    "file_handler = logging.FileHandler('shop-Main.log', mode='w')\n",
    "file_handler.setLevel(logging.DEBUG)\n",
    "\n",
    "console_handler = logging.StreamHandler(stream=sys.stdout)\n",
    "console_handler.setLevel(logging.INFO)\n",
    "\n",
    "logging.basicConfig(\n",
    "    level=logging.DEBUG,\n",
    "    format='%(asctime)s.%(msecs)03d %(levelname)s %(module)s - %(funcName)s: %(message)s',\n",
    "    datefmt='%Y-%m-%d %H:%M:%S',\n",
    "    handlers=(file_handler, console_handler),\n",
    ")"
   ]
  },
  {
   "cell_type": "markdown",
   "id": "f61d422d-727b-45b0-a90c-f51fbd28e62c",
   "metadata": {},
   "source": [
    "## Functions"
   ]
  },
  {
   "cell_type": "code",
   "execution_count": null,
   "id": "0635e7ff-ee7c-4bba-b17d-f8c831dd1c3b",
   "metadata": {},
   "outputs": [],
   "source": [
    "def wait_and_get(\n",
    "    driver: webdriver.Chrome,\n",
    "    value: str,\n",
    "    by: Optional[By] = None,\n",
    "    timeout: Optional[int] = None,\n",
    ") -> WebElement:\n",
    "    \n",
    "    if by is None:\n",
    "        by = By.XPATH\n",
    "        \n",
    "    if timeout is None:\n",
    "        timeout = TIMEOUT\n",
    "        \n",
    "    logging.debug(f'{by=}, {value=}, {timeout=}')\n",
    "    \n",
    "    wait = expected_conditions.presence_of_element_located((by, value))\n",
    "    WebDriverWait(driver, timeout).until(wait)\n",
    "    \n",
    "    logging.info(f'Waited for: {by=}, {value=}')\n",
    "    time.sleep(1)\n",
    "\n",
    "    return driver.find_element(by=by, value=value)\n",
    "    \n",
    "\n",
    "def wait_and_click(\n",
    "    driver: webdriver.Chrome,\n",
    "    value: str,\n",
    "    by: Optional[By] = None,\n",
    "    timeout: Optional[int] = None,\n",
    ") -> NoReturn:\n",
    "    element = wait_and_get(driver=driver, value=value, by=by, timeout=timeout)\n",
    "    element.click()\n",
    "    logging.info(f'Clicked: {value=}')\n",
    "    \n",
    "\n",
    "def wait_and_execute_click(\n",
    "    driver: webdriver.Chrome,\n",
    "    value: str,\n",
    "    by: Optional[By] = None,\n",
    "    timeout: Optional[int] = None,\n",
    ") -> NoReturn:\n",
    "    element = wait_and_get(driver=driver, value=value, by=by, timeout=timeout)\n",
    "    driver.execute_script(\"arguments[0].click();\", element)\n",
    "    logging.info(f'Executed click via script: {value=}')\n",
    "    \n",
    "    \n",
    "def wait_and_send_keys(\n",
    "    driver: webdriver.Chrome,\n",
    "    value: str,\n",
    "    keys: str,\n",
    "    by: Optional[By] = None,\n",
    "    timeout: Optional[int] = None,\n",
    ") -> NoReturn:\n",
    "    element = wait_and_get(driver=driver, value=value, by=by, timeout=timeout)\n",
    "    element.send_keys(keys)\n",
    "    logging.info(f'Sent keys: {keys=} into {value=}')"
   ]
  },
  {
   "cell_type": "code",
   "execution_count": null,
   "id": "e195c06e-4acc-43ea-acf8-3d3444855981",
   "metadata": {},
   "outputs": [],
   "source": [
    "def get_driver() -> undetected_chromedriver.Chrome:\n",
    "    options = undetected_chromedriver.ChromeOptions()\n",
    "    options.add_argument('--start-maximized')\n",
    "    options.add_argument('--password-store=basic')\n",
    "    options.add_experimental_option(\n",
    "        'prefs',\n",
    "        {\n",
    "            'credentials_enable_service': False,\n",
    "            'profile.password_manager_enabled': False,\n",
    "        },\n",
    "    )\n",
    "\n",
    "    return undetected_chromedriver.Chrome(options=options)"
   ]
  },
  {
   "cell_type": "code",
   "execution_count": null,
   "id": "25f4b331-a618-42a0-b3ea-d7f8bcb89ba8",
   "metadata": {},
   "outputs": [],
   "source": [
    "def login() -> undetected_chromedriver.Chrome:\n",
    "    driver = get_driver()\n",
    "    \n",
    "    driver.get(URL_LOGIN)\n",
    "    \n",
    "    xpath_cookies_accept = '//button[@type=\"submit\"]//span[text()=\"Accept all cookies\"]'\n",
    "    wait_and_click(driver=driver, value=xpath_cookies_accept)\n",
    "\n",
    "    xpath_email = '//input[@id=\"email\"]'\n",
    "    element_email = wait_and_send_keys(driver=driver, value=xpath_email, keys=EMAIL_LOGIN)\n",
    "\n",
    "    xpath_password = '//input[@id=\"password\"]'\n",
    "    element_email = wait_and_send_keys(driver=driver, value=xpath_password, keys=PASSWORD_LOGIN)\n",
    "\n",
    "    xpath_sign_in = '//button[@id=\"signin-button\"]'\n",
    "    element_sign_in = wait_and_click(driver=driver, value=xpath_sign_in)\n",
    "    logging.info(f'Clicked {xpath_sign_in=}')"
   ]
  }
 ],
 "metadata": {
  "kernelspec": {
   "display_name": "Python 3 (ipykernel)",
   "language": "python",
   "name": "python3"
  },
  "language_info": {
   "codemirror_mode": {
    "name": "ipython",
    "version": 3
   },
   "file_extension": ".py",
   "mimetype": "text/x-python",
   "name": "python",
   "nbconvert_exporter": "python",
   "pygments_lexer": "ipython3",
   "version": "3.10.4"
  }
 },
 "nbformat": 4,
 "nbformat_minor": 5
}

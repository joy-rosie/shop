{
 "cells": [
  {
   "cell_type": "markdown",
   "id": "e9475df6-024d-4d11-942f-38de05cb89e3",
   "metadata": {},
   "source": [
    "## Imports"
   ]
  },
  {
   "cell_type": "code",
   "execution_count": null,
   "id": "e3c27e1b-7c40-463a-b42c-fb8a5f83e6ec",
   "metadata": {},
   "outputs": [],
   "source": [
    "import getpass\n",
    "import logging\n",
    "from pathlib import Path\n",
    "import sys\n",
    "from typing import Optional, NoReturn\n",
    "import datetime\n",
    "import zoneinfo\n",
    "import time\n",
    "\n",
    "import chromedriver_binary\n",
    "import undetected_chromedriver\n",
    "from selenium import webdriver\n",
    "from selenium.webdriver.remote.webelement import WebElement\n",
    "from selenium.webdriver.common.keys import Keys\n",
    "from selenium.webdriver.common.by import By\n",
    "from selenium.webdriver.support.ui import WebDriverWait\n",
    "from selenium.webdriver.support import expected_conditions\n",
    "from selenium.webdriver.common.action_chains import ActionChains"
   ]
  },
  {
   "cell_type": "markdown",
   "id": "4ab57459-4c00-491f-85b9-e5b99b5a1d0b",
   "metadata": {},
   "source": [
    "## Logging"
   ]
  },
  {
   "cell_type": "code",
   "execution_count": null,
   "id": "c6922162-b99a-462f-849f-d4886fd98683",
   "metadata": {},
   "outputs": [],
   "source": [
    "file_handler = logging.FileHandler('shop-Main.log', mode='w')\n",
    "file_handler.setLevel(logging.DEBUG)\n",
    "\n",
    "console_handler = logging.StreamHandler(stream=sys.stdout)\n",
    "console_handler.setLevel(logging.INFO)\n",
    "\n",
    "logging.basicConfig(\n",
    "    level=logging.DEBUG,\n",
    "    format='%(asctime)s.%(msecs)03d %(levelname)s %(module)s - %(funcName)s: %(message)s',\n",
    "    datefmt='%Y-%m-%d %H:%M:%S',\n",
    "    handlers=(file_handler, console_handler),\n",
    ")"
   ]
  },
  {
   "cell_type": "markdown",
   "id": "32318c72-3d1f-4d65-abd6-54c9b7d601d0",
   "metadata": {},
   "source": [
    "## Constants"
   ]
  },
  {
   "cell_type": "code",
   "execution_count": null,
   "id": "3ddba052-d6e8-430a-94a8-242c553c6093",
   "metadata": {},
   "outputs": [],
   "source": [
    "TIMEOUT = 100\n",
    "\n",
    "URL_LOGIN = 'https://www.tesco.com/account/login/en-GB?from=/'\n",
    "EMAIL_LOGIN = 'roseannaferguson@hotmail.com'\n",
    "PASSWORD_LOGIN = getpass.getpass()"
   ]
  },
  {
   "cell_type": "markdown",
   "id": "2b6a05da-9195-4981-92aa-eea519b25869",
   "metadata": {},
   "source": [
    "## Functions"
   ]
  },
  {
   "cell_type": "code",
   "execution_count": null,
   "id": "3f4be4c1-2944-4503-afed-a45a70c64c06",
   "metadata": {},
   "outputs": [],
   "source": [
    "def wait_and_get(\n",
    "    driver: webdriver.Chrome,\n",
    "    value: str,\n",
    "    by: Optional[By] = None,\n",
    "    timeout: Optional[int] = None,\n",
    ") -> WebElement:\n",
    "    \n",
    "    if by is None:\n",
    "        by = By.XPATH\n",
    "        \n",
    "    if timeout is None:\n",
    "        timeout = TIMEOUT\n",
    "        \n",
    "    logging.debug(f'{by=}, {value=}, {timeout=}')\n",
    "    \n",
    "    wait = expected_conditions.presence_of_element_located((by, value))\n",
    "    WebDriverWait(driver, timeout).until(wait)\n",
    "    \n",
    "    logging.info(f'Waited for: {by=}, {value=}')\n",
    "    time.sleep(1)\n",
    "\n",
    "    return driver.find_element(by=by, value=value)\n",
    "    \n",
    "\n",
    "def wait_and_click(\n",
    "    driver: webdriver.Chrome,\n",
    "    value: str,\n",
    "    by: Optional[By] = None,\n",
    "    timeout: Optional[int] = None,\n",
    ") -> NoReturn:\n",
    "    element = wait_and_get(driver=driver, value=value, by=by, timeout=timeout)\n",
    "    element.click()\n",
    "    logging.info(f'Clicked: {by=}, {value=}')"
   ]
  },
  {
   "cell_type": "markdown",
   "id": "6eced292-eecd-4842-8a1d-79e78e2b548b",
   "metadata": {},
   "source": [
    "## Get Driver"
   ]
  },
  {
   "cell_type": "code",
   "execution_count": null,
   "id": "dbaa9a26-f96a-4620-9174-bfbd5b7c160b",
   "metadata": {},
   "outputs": [],
   "source": [
    "options = undetected_chromedriver.ChromeOptions()\n",
    "options.add_argument('--start-maximized')\n",
    "options.add_argument('--password-store=basic')\n",
    "options.add_experimental_option(\n",
    "    'prefs',\n",
    "    {\n",
    "        'credentials_enable_service': False,\n",
    "        'profile.password_manager_enabled': False,\n",
    "    },\n",
    ")\n",
    "\n",
    "driver = undetected_chromedriver.Chrome(options=options)"
   ]
  },
  {
   "cell_type": "markdown",
   "id": "b5909f0b-292e-4768-858a-dc6b2c26367d",
   "metadata": {},
   "source": [
    "## Go to URL"
   ]
  },
  {
   "cell_type": "code",
   "execution_count": null,
   "id": "4dc6113c-63fe-4bf7-b1c4-26f958d96f7d",
   "metadata": {},
   "outputs": [],
   "source": [
    "driver.get(URL_LOGIN)"
   ]
  },
  {
   "cell_type": "markdown",
   "id": "13ba46bd-696f-45be-8f7a-f03f7be3c92a",
   "metadata": {},
   "source": [
    "## Login"
   ]
  },
  {
   "cell_type": "code",
   "execution_count": null,
   "id": "5e9a7fef-ff8b-44c1-b029-66ab5329b299",
   "metadata": {},
   "outputs": [],
   "source": [
    "xpath_cookies_accept = '//button[@type=\"submit\"]//span[text()=\"Accept all cookies\"]'\n",
    "wait_and_click(driver=driver, value=xpath_cookies_accept)\n",
    "\n",
    "xpath_email = '//input[@id=\"email\"]'\n",
    "element_email = wait_and_get(driver=driver, value=xpath_email)\n",
    "element_email.send_keys(EMAIL_LOGIN)\n",
    "logging.info(f'Sent keys: {EMAIL_LOGIN=} into {xpath_email=}')\n",
    "\n",
    "xpath_password = '//input[@id=\"password\"]'\n",
    "element_password = driver.find_element(by=By.XPATH, value=xpath_password)\n",
    "element_password.send_keys(PASSWORD_LOGIN)\n",
    "logging.info(f'Sent keys: password into {xpath_password=}')\n",
    "time.sleep(1)\n",
    "\n",
    "xpath_sign_in = '//button[@id=\"signin-button\"]'\n",
    "element_sign_in = driver.find_element(by=By.XPATH, value=xpath_sign_in)\n",
    "element_sign_in.click()\n",
    "logging.info(f'Clicked {xpath_sign_in=}')"
   ]
  },
  {
   "cell_type": "markdown",
   "id": "e09b7e3b-d6f5-4146-952f-73a5ca276ec8",
   "metadata": {},
   "source": [
    "## Go to book a slot"
   ]
  },
  {
   "cell_type": "code",
   "execution_count": null,
   "id": "72f473c7-11c3-47ad-b0ba-18e9c3efff1b",
   "metadata": {},
   "outputs": [],
   "source": [
    "xpath_groceries = '//a[@title=\"Groceries\"]'\n",
    "wait_and_click(driver=driver, value=xpath_groceries)\n",
    "\n",
    "xpath_shop_groceries = '//span[text()=\"Shop groceries\"]'\n",
    "element_span_shop_groceries = wait_and_get(driver=driver, value=xpath_shop_groceries)\n",
    "element_shop_groceries = element_span_shop_groceries.find_element(by=By.XPATH, value='../..')\n",
    "element_shop_groceries.click()\n",
    "\n",
    "xpath_book_another_slot = '//a[text()=\"Book another slot\"]'\n",
    "wait_and_click(driver=driver, value=xpath_book_another_slot)\n",
    "\n",
    "xpath_delivery = '//a[@href=\"/groceries/en-GB/slots/delivery\"]'\n",
    "wait_and_click(driver=driver, value=xpath_delivery)"
   ]
  },
  {
   "cell_type": "markdown",
   "id": "c4f24d2b-62a8-499a-b534-5637337a208a",
   "metadata": {},
   "source": [
    "## Book the slot"
   ]
  },
  {
   "cell_type": "code",
   "execution_count": null,
   "id": "b5041a3c-b961-42d1-8e1d-69589e7e8b99",
   "metadata": {},
   "outputs": [],
   "source": [
    "now = datetime.datetime.now(tz=zoneinfo.ZoneInfo('Europe/London'))\n",
    "\n",
    "start_week_third = now + datetime.timedelta(days=21)\n",
    "end_week_third = start_week_third + datetime.timedelta(days=6)\n",
    "\n",
    "xpath_week_third = '//a[@id=\"between-september 18th - 24th\"]'\n",
    "wait_and_click(driver=driver, value=xpath_week_third)\n",
    "\n",
    "days_to_saturday = (5 - start_week_third.weekday()) % 7\n",
    "date_saturday = start_week_third + datetime.timedelta(days=days_to_saturday)\n",
    "\n",
    "datetime_slot_start = date_saturday.replace(hour=9, minute=0, second=0)\n",
    "datetime_slot_end = datetime_slot_start + datetime.timedelta(hours=1)\n",
    "\n",
    "def suffix(day_of_month: int):\n",
    "    if 11 <= day_of_month <= 13:\n",
    "        return 'th' \n",
    "    else:\n",
    "        return {1: 'st', 2: 'nd', 3: 'rd'}.get(day_of_month % 10, 'th')\n",
    "    \n",
    "date_formatted = datetime_slot_start.strftime(f'%A %d{suffix(datetime_slot_start.day)} %B')\n",
    "text_slot = f'{date_formatted}, Between {datetime_slot_start:%H:%M} - {datetime_slot_end:%H:%M}.'\n",
    "\n",
    "xpath_slot_saturday = f'//span[text()=\"{text_slot}\"]'\n",
    "element_slot_saturday = wait_and_get(driver=driver, value=xpath_slot_saturday)\n",
    "element_slot_button = element_slot_saturday.find_element(by=By.XPATH, value='..')\n",
    "element_slot_button.click()\n",
    "\n",
    "xpath_my_orders = '//span[text()=\"My orders\"]'\n",
    "wait_and_click(driver=driver, value=xpath_my_orders)"
   ]
  },
  {
   "cell_type": "markdown",
   "id": "bf78323c-7115-49ff-8c7c-f3fd194582e4",
   "metadata": {},
   "source": [
    "## Add all to basket"
   ]
  },
  {
   "cell_type": "code",
   "execution_count": null,
   "id": "c9c06bec-c7fc-480c-945c-1886a6956ffc",
   "metadata": {},
   "outputs": [],
   "source": [
    "xpath_add_all_to_basket = '//button[@type=\"submit\"]//span[text()=\"Add all to basket\"]'\n",
    "wait_and_click(driver=driver, value=xpath_add_all_to_basket)"
   ]
  },
  {
   "cell_type": "markdown",
   "id": "7c5e282f-b173-414c-962e-0738662fce51",
   "metadata": {},
   "source": [
    "## Checkout"
   ]
  },
  {
   "cell_type": "code",
   "execution_count": null,
   "id": "63ee7f91-48a8-4d81-955d-1dc504875487",
   "metadata": {},
   "outputs": [],
   "source": [
    "xpath_span_checkout = '//span[text()=\"Checkout\"]'\n",
    "element_span_checkout = wait_and_get(driver=driver, value=xpath_span_checkout)\n",
    "driver.execute_script(\"arguments[0].click();\", element_span_checkout)\n",
    "\n",
    "time.sleep(1)\n",
    "\n",
    "xpath_a_checkout = '//a[text()=\"Checkout\"]'\n",
    "element_a_checkout = wait_and_get(driver=driver, value=xpath_a_checkout)\n",
    "driver.execute_script(\"arguments[0].click();\", element_a_checkout)\n",
    "\n",
    "time.sleep(1)\n",
    "\n",
    "xpath_a_continue_checkout = '//a[text()=\"Continue checkout\"]'\n",
    "element_a_continue_checkout = wait_and_get(driver=driver, value=xpath_a_continue_checkout)\n",
    "driver.execute_script(\"arguments[0].click();\", element_a_continue_checkout)\n",
    "\n",
    "time.sleep(1)\n",
    "\n",
    "xpath_a_continue_to_payment = '//a[text()=\"Continue to payment\"]'\n",
    "element_a_continue_to_payment = wait_and_get(driver=driver, value=xpath_a_continue_to_payment)\n",
    "driver.execute_script(\"arguments[0].click();\", element_a_continue_to_payment)"
   ]
  },
  {
   "cell_type": "markdown",
   "id": "d5433b4e-7e1c-488c-90f3-da89a5d90a89",
   "metadata": {},
   "source": [
    "## Input card details"
   ]
  },
  {
   "cell_type": "code",
   "execution_count": null,
   "id": "c17d68c3-b3eb-43cc-8965-55fcf21fb963",
   "metadata": {},
   "outputs": [],
   "source": [
    "# driver.switch_to.frame('bounty-iframe')\n",
    "\n",
    "# xpath_cvc = '//input[@id=\"card-cvc\"]'\n",
    "# element_cvc = wait_and_get(driver=driver, value=xpath_cvc)\n",
    "# element_cvc.send_keys(getpass.getpass())\n",
    "\n",
    "# xpath_confirm_order = '//input[@value=\"Confirm order\"]'\n",
    "# wait_and_click(driver=driver, value=xpath_confirm_order)"
   ]
  }
 ],
 "metadata": {
  "kernelspec": {
   "display_name": "Python 3 (ipykernel)",
   "language": "python",
   "name": "python3"
  },
  "language_info": {
   "codemirror_mode": {
    "name": "ipython",
    "version": 3
   },
   "file_extension": ".py",
   "mimetype": "text/x-python",
   "name": "python",
   "nbconvert_exporter": "python",
   "pygments_lexer": "ipython3",
   "version": "3.10.4"
  }
 },
 "nbformat": 4,
 "nbformat_minor": 5
}

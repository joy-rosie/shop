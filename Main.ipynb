{
 "cells": [
  {
   "cell_type": "code",
   "execution_count": 167,
   "id": "e3c27e1b-7c40-463a-b42c-fb8a5f83e6ec",
   "metadata": {},
   "outputs": [],
   "source": [
    "import getpass\n",
    "import logging\n",
    "from pathlib import Path\n",
    "import sys\n",
    "from typing import Optional, NoReturn\n",
    "\n",
    "import chromedriver_binary\n",
    "import undetected_chromedriver\n",
    "from selenium import webdriver\n",
    "from selenium.webdriver.common.keys import Keys\n",
    "from selenium.webdriver.common.by import By\n",
    "from selenium.webdriver.support.ui import WebDriverWait\n",
    "from selenium.webdriver.support import expected_conditions\n",
    "from selenium.webdriver.common.action_chains import ActionChains"
   ]
  },
  {
   "cell_type": "code",
   "execution_count": 8,
   "id": "c6922162-b99a-462f-849f-d4886fd98683",
   "metadata": {},
   "outputs": [],
   "source": [
    "file_handler = logging.FileHandler('shop-Main.log', mode='w')\n",
    "file_handler.setLevel(logging.DEBUG)\n",
    "\n",
    "console_handler = logging.StreamHandler(stream=sys.stdout)\n",
    "console_handler.setLevel(logging.INFO)\n",
    "\n",
    "logging.basicConfig(\n",
    "    level=logging.DEBUG,\n",
    "    format='%(asctime)s.%(msecs)03d %(levelname)s %(module)s - %(funcName)s: %(message)s',\n",
    "    datefmt='%Y-%m-%d %H:%M:%S',\n",
    "    handlers=(file_handler, console_handler),\n",
    ")"
   ]
  },
  {
   "cell_type": "code",
   "execution_count": 58,
   "id": "3ddba052-d6e8-430a-94a8-242c553c6093",
   "metadata": {},
   "outputs": [],
   "source": [
    "EMAIL_LOGIN = 'roseannaferguson@hotmail.com'\n",
    "URL_LOGIN = 'https://www.tesco.com/account/login/en-GB?from=/'\n",
    "\n",
    "TIMEOUT = 100"
   ]
  },
  {
   "cell_type": "code",
   "execution_count": null,
   "id": "ae7fc555-b0b1-44db-8dd1-0d582881a6fa",
   "metadata": {},
   "outputs": [
    {
     "name": "stdin",
     "output_type": "stream",
     "text": [
      " ········\n"
     ]
    }
   ],
   "source": [
    "PASSWORD_LOGIN = getpass.getpass()"
   ]
  },
  {
   "cell_type": "code",
   "execution_count": 180,
   "id": "dbaa9a26-f96a-4620-9174-bfbd5b7c160b",
   "metadata": {},
   "outputs": [
    {
     "name": "stdout",
     "output_type": "stream",
     "text": [
      "2022-08-28 10:02:59.760 INFO patcher - patch_exe: patching driver executable C:\\Users\\joy\\appdata\\roaming\\undetected_chromedriver\\f27493d653f8c0a4_chromedriver.exe\n"
     ]
    }
   ],
   "source": [
    "# useragent = 'Mozilla/5.0 (Windows NT 10.0; Win64; x64) AppleWebKit/537.36 (KHTML, like Gecko) Chrome/104.0.0.0 Safari/537.36'\n",
    "\n",
    "# options = webdriver.ChromeOptions()\n",
    "# options.add_argument(f'user-agent={useragent}')\n",
    "# options.add_argument('--disable-blink-features=AutomationControlled')\n",
    "# options.add_experimental_option(\"excludeSwitches\", [\"enable-automation\"])\n",
    "# options.add_experimental_option('useAutomationExtension', False)\n",
    "\n",
    "# driver = webdriver.Chrome(options=options\n",
    "\n",
    "driver = undetected_chromedriver.Chrome()"
   ]
  },
  {
   "cell_type": "code",
   "execution_count": 181,
   "id": "4dc6113c-63fe-4bf7-b1c4-26f958d96f7d",
   "metadata": {},
   "outputs": [],
   "source": [
    "driver.get(URL_LOGIN)"
   ]
  },
  {
   "cell_type": "code",
   "execution_count": 182,
   "id": "3f4be4c1-2944-4503-afed-a45a70c64c06",
   "metadata": {},
   "outputs": [],
   "source": [
    "def wait_and_click(\n",
    "    driver: webdriver.Chrome,\n",
    "    value: str,\n",
    "    by: Optional[By] = None, \n",
    ") -> NoReturn:\n",
    "    \n",
    "    if by is None:\n",
    "        by = By.XPATH\n",
    "    \n",
    "    wait = expected_conditions.presence_of_element_located((by, value))\n",
    "    WebDriverWait(driver, TIMEOUT).until(wait)\n",
    "\n",
    "    element = driver.find_element(by=by, value=value)\n",
    "    element.click()\n",
    "    \n",
    "    return element"
   ]
  },
  {
   "cell_type": "code",
   "execution_count": 183,
   "id": "a3cf194e-089b-431d-bbf8-8fc71ed518ef",
   "metadata": {},
   "outputs": [
    {
     "data": {
      "text/plain": [
       "<selenium.webdriver.remote.webelement.WebElement (session=\"4e24b8ffbf8076c480f84c4e20b6cf92\", element=\"eb47cc44-62e5-4d92-90ca-885ed60c23d6\")>"
      ]
     },
     "execution_count": 183,
     "metadata": {},
     "output_type": "execute_result"
    }
   ],
   "source": [
    "xpath_cookies_accept = '//button[@type=\"submit\"]//span[text()=\"Accept all cookies\"]'\n",
    "wait_and_click(driver=driver, value=xpath_cookies_accept)"
   ]
  },
  {
   "cell_type": "code",
   "execution_count": 184,
   "id": "5e9a7fef-ff8b-44c1-b029-66ab5329b299",
   "metadata": {},
   "outputs": [],
   "source": [
    "xpath_email = '//input[@id=\"email\"]'\n",
    "xpath_password = '//input[@id=\"password\"]'\n",
    "xpath_sign_in = '//button[@id=\"signin-button\"]'\n",
    "\n",
    "element_email = wait_and_click(driver=driver, value=xpath_email)\n",
    "element_password = driver.find_element(by=By.XPATH, value=xpath_password)\n",
    "element_sign_in = driver.find_element(by=By.XPATH, value=xpath_sign_in)\n",
    "\n",
    "action = ActionChains(driver)\n",
    "\n",
    "action.move_to_element(element_email)\n",
    "action.click()\n",
    "action.send_keys_to_element(element_email, *EMAIL_LOGIN)\n",
    "\n",
    "action.move_to_element(element_password)\n",
    "action.click()\n",
    "action.send_keys_to_element(element_password, *PASSWORD_LOGIN)\n",
    "\n",
    "action.move_to_element(element_sign_in)\n",
    "action.click_and_hold()\n",
    "action.click()\n",
    "\n",
    "action.perform()"
   ]
  },
  {
   "cell_type": "code",
   "execution_count": null,
   "id": "72f473c7-11c3-47ad-b0ba-18e9c3efff1b",
   "metadata": {},
   "outputs": [],
   "source": []
  }
 ],
 "metadata": {
  "kernelspec": {
   "display_name": "Python 3 (ipykernel)",
   "language": "python",
   "name": "python3"
  },
  "language_info": {
   "codemirror_mode": {
    "name": "ipython",
    "version": 3
   },
   "file_extension": ".py",
   "mimetype": "text/x-python",
   "name": "python",
   "nbconvert_exporter": "python",
   "pygments_lexer": "ipython3",
   "version": "3.10.4"
  }
 },
 "nbformat": 4,
 "nbformat_minor": 5
}

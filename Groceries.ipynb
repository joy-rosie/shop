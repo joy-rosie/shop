{
 "cells": [
  {
   "cell_type": "code",
   "execution_count": null,
   "id": "1be238f1-2395-4f95-af66-28d1de0603c8",
   "metadata": {},
   "outputs": [],
   "source": [
    "%run ./Utility.ipynb"
   ]
  },
  {
   "cell_type": "markdown",
   "id": "7f699bd1-0833-4a9d-b4a4-ac640d783d09",
   "metadata": {},
   "source": [
    "## Login"
   ]
  },
  {
   "cell_type": "code",
   "execution_count": null,
   "id": "4c903a67-2afd-43d6-93ed-eac04bd52ff0",
   "metadata": {},
   "outputs": [],
   "source": [
    "driver = login()"
   ]
  },
  {
   "cell_type": "code",
   "execution_count": null,
   "id": "a65dcc4e-d0f7-4e72-805d-f8e99008b07b",
   "metadata": {},
   "outputs": [],
   "source": [
    "time.sleep(1)\n",
    "driver.get('https://www.tesco.com/groceries/en-GB/orders')"
   ]
  },
  {
   "cell_type": "code",
   "execution_count": null,
   "id": "08db13d4-64f9-4d3e-bb2b-20a40a6d12ed",
   "metadata": {},
   "outputs": [],
   "source": [
    "xpath_make_changes = '//span[text()=\"Make changes\"]'\n",
    "element = wait_and_click(driver=driver, value=xpath_make_changes)"
   ]
  },
  {
   "cell_type": "code",
   "execution_count": null,
   "id": "c97c4ef2-753b-47bd-9e17-70117294cbca",
   "metadata": {},
   "outputs": [],
   "source": [
    "xpath_day = '//span[@class=\"day\"]'\n",
    "element_day = wait_and_get(driver=driver, value=xpath_day)\n",
    "\n",
    "xpath_date = '//span[@class=\"date\"]'\n",
    "element_date = wait_and_get(driver=driver, value=xpath_date)\n",
    "\n",
    "xpath_month = '//span[@class=\"month\"]'\n",
    "element_month = wait_and_get(driver=driver, value=xpath_month)\n",
    "\n",
    "logger.warning(f'Date Information: {element_day.text} {element_date.text} {element_month.text}')"
   ]
  },
  {
   "cell_type": "code",
   "execution_count": null,
   "id": "538e5d36-4ff1-48e8-ad0d-7380b1c17f40",
   "metadata": {},
   "outputs": [],
   "source": [
    "xpath_view_full_basket = '//span[text()=\"View full basket\"]'\n",
    "wait_and_click(driver=driver, value=xpath_view_full_basket)\n",
    "\n",
    "xpath_empty_basket = '//a[text()=\"Empty basket\"]'\n",
    "wait_and_click(driver=driver, value=xpath_empty_basket)\n",
    "\n",
    "xpath_empty_button = '//button[text()=\"Empty\"]'\n",
    "wait_and_click(driver=driver, value=xpath_empty_button)\n",
    "\n",
    "xpath_browse_the_store = '//a[text()=\"Browse the store\"]'\n",
    "_ = wait_and_get(driver=driver, value=xpath_browse_the_store)"
   ]
  },
  {
   "cell_type": "code",
   "execution_count": null,
   "id": "c4bbe725-1217-4413-9f1e-cfc24a7ec048",
   "metadata": {},
   "outputs": [],
   "source": [
    "groceries = get_groceries()"
   ]
  },
  {
   "cell_type": "code",
   "execution_count": null,
   "id": "d48f8d27-3b36-4759-b9b8-c98b30ec60c9",
   "metadata": {},
   "outputs": [],
   "source": [
    "xpath_product_input_amount = '//input[@class=\"product-input\"]'\n",
    "xpath_add = '//span[text()=\"Add\"]'\n",
    "xpath_checkout_to_confirm_changes = '//span[text()=\"Checkout\"]'\n",
    "\n",
    "for row in groceries['values'][1:]:\n",
    "    name = row[1]\n",
    "    url = row[2]\n",
    "    amount = row[3]\n",
    "    description = row[4]\n",
    "    not_required = row[5].lower() == 'true'\n",
    "    \n",
    "    info = f'{name=}, {url=}, {amount=}, {description=}, {not_required=}'\n",
    "\n",
    "    if not_required:\n",
    "        logger.debug(f'Not required - {info=}')\n",
    "    else:\n",
    "        try:\n",
    "            driver.get(url)\n",
    "            wait_and_select_all_and_send_keys(driver=driver, value=xpath_product_input_amount, keys=amount)\n",
    "            wait_and_click(driver=driver, value=xpath_add)\n",
    "            _ = wait_and_get(driver=driver, value=xpath_checkout_to_confirm_changes)\n",
    "        except:\n",
    "            logger.error(f'Failed - {info=}')"
   ]
  }
 ],
 "metadata": {
  "kernelspec": {
   "display_name": "Python 3 (ipykernel)",
   "language": "python",
   "name": "python3"
  },
  "language_info": {
   "codemirror_mode": {
    "name": "ipython",
    "version": 3
   },
   "file_extension": ".py",
   "mimetype": "text/x-python",
   "name": "python",
   "nbconvert_exporter": "python",
   "pygments_lexer": "ipython3",
   "version": "3.10.4"
  }
 },
 "nbformat": 4,
 "nbformat_minor": 5
}
